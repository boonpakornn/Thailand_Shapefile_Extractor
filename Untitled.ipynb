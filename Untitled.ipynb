{
 "cells": [
  {
   "cell_type": "markdown",
   "metadata": {},
   "source": [
    "# Thailand_Shapefile_Extractor\n",
    "\n",
    "\n",
    "### Converting Shapefile to GeoJSON\n",
    "http://gipong.github.io/shp2geojson.js/\n",
    "\n",
    "### Ploting GeoJSON on Map\n",
    "http://geojson.io/\n",
    "\n",
    "### Overpass API\n",
    "http://overpass-turbo.eu/\n",
    "\n",
    "---\n",
    "## Demo:\n",
    "You can find demo here: [Jupyter notebook: polygon-Krabi-heatmap](https://github.com/pcrete/Thailand_Shapefile_Extractor/blob/master/polygon-Krabi-heatmap.ipynb)\n",
    "\n",
    "Visualizing on Heatmap [polygon-Krabi-heatmap](https://github.com/pcrete/Thailand_Shapefile_Extractor/tree/master/heatmap)"
   ]
  },
  {
   "cell_type": "code",
   "execution_count": null,
   "metadata": {
    "collapsed": true
   },
   "outputs": [],
   "source": []
  }
 ],
 "metadata": {
  "kernelspec": {
   "display_name": "Python 3",
   "language": "python",
   "name": "python3"
  },
  "language_info": {
   "codemirror_mode": {
    "name": "ipython",
    "version": 3
   },
   "file_extension": ".py",
   "mimetype": "text/x-python",
   "name": "python",
   "nbconvert_exporter": "python",
   "pygments_lexer": "ipython3",
   "version": "3.5.2"
  }
 },
 "nbformat": 4,
 "nbformat_minor": 2
}
